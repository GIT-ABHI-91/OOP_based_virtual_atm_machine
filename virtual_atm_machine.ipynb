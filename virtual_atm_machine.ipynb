{
 "cells": [
  {
   "cell_type": "code",
   "execution_count": 4,
   "id": "b61b49f7-2366-46c7-a7ca-80b419266636",
   "metadata": {},
   "outputs": [
    {
     "name": "stdin",
     "output_type": "stream",
     "text": [
      "ENTER YOUR ATM PIN-  9071\n"
     ]
    },
    {
     "name": "stdout",
     "output_type": "stream",
     "text": [
      "WELCOME  ABHISHEK \n",
      "1) WITHDRAW\n",
      "2) DEPOSIT\n",
      "3) CHECK BALANCE\n"
     ]
    },
    {
     "name": "stdin",
     "output_type": "stream",
     "text": [
      "ENTER TRANSACTION CODE-  1\n",
      "ENTER AMOUNT-  1000\n"
     ]
    },
    {
     "name": "stdout",
     "output_type": "stream",
     "text": [
      "AMOUNT WITHDRWAN-  1000 \n",
      "CURRENT BALANCE-  6000\n",
      "LOGGING OUT\n"
     ]
    }
   ],
   "source": [
    "# object oriented programming based virtual atm machine\n",
    "class atm:\n",
    "    def authenticate(self):  #method for user authentication\n",
    "        self.pin=int(input(\"ENTER YOUR ATM PIN- \"))\n",
    "        if(self.pin in database):\n",
    "            return 1\n",
    "        else:\n",
    "            return 0\n",
    "    def withdraw(self):  #method for cash withdrawal\n",
    "        self.amount=int(input(\"ENTER AMOUNT- \"))\n",
    "        if( self.amount > database[self.pin]['balance']):\n",
    "            print(\"INSUFFICIENT BALANCE\")\n",
    "        else:\n",
    "            database[self.pin]['balance']=database[self.pin]['balance']-self.amount\n",
    "            print(\"AMOUNT WITHDRWAN- \",self.amount,\"\\nCURRENT BALANCE- \",database[self.pin]['balance'])\n",
    "    def deposit(self):  #method for cash depost\n",
    "        self.amount=int(input(\"ENTER AMOUNT- \"))\n",
    "        database[self.pin]['balance']=database[self.pin]['balance']+amount\n",
    "    def check_balance(self):  #method to view account balance\n",
    "        print(\"CURRENT ACCOUNT BALANCE- \",database[self.pin]['balance'])\n",
    "\n",
    "\n",
    "database={9071:{'name':'abhishek','balance':7000},\n",
    "          6789:{'name':'kavya','balance':6000},\n",
    "          4596:{'name':'sahil','balance':7500}}\n",
    "client= atm()\n",
    "auth= client.authenticate()\n",
    "if(auth==1):\n",
    "    print(\"WELCOME \",database[client.pin]['name'].upper(),\"\\n1) WITHDRAW\\n2) DEPOSIT\\n3) CHECK BALANCE\")\n",
    "    choice=int(input(\"ENTER TRANSACTION CODE- \"))\n",
    "    if(choice==1):\n",
    "        client.withdraw()\n",
    "    elif(choice==2):\n",
    "        client.deposit()\n",
    "    elif(choice==3):\n",
    "        client.check_balance()\n",
    "    else:\n",
    "        print(\"INVALID CODE ENTERED\")\n",
    "elif(auth==0):\n",
    "    print(\"WRONG PIN ENTERED\")\n",
    "print(\"LOGGING OUT\")"
   ]
  },
  {
   "cell_type": "code",
   "execution_count": null,
   "id": "c05d0311-c3d0-4e1e-85aa-ecd136f0fc32",
   "metadata": {},
   "outputs": [],
   "source": []
  }
 ],
 "metadata": {
  "kernelspec": {
   "display_name": "Python 3 (ipykernel)",
   "language": "python",
   "name": "python3"
  },
  "language_info": {
   "codemirror_mode": {
    "name": "ipython",
    "version": 3
   },
   "file_extension": ".py",
   "mimetype": "text/x-python",
   "name": "python",
   "nbconvert_exporter": "python",
   "pygments_lexer": "ipython3",
   "version": "3.10.10"
  }
 },
 "nbformat": 4,
 "nbformat_minor": 5
}
